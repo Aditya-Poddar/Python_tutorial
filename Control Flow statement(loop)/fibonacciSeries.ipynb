{
 "cells": [
  {
   "cell_type": "markdown",
   "metadata": {},
   "source": [
    "####  WAP to print fibonacci series."
   ]
  },
  {
   "cell_type": "code",
   "execution_count": 5,
   "metadata": {},
   "outputs": [
    {
     "name": "stdout",
     "output_type": "stream",
     "text": [
      "Enter a non negative number to print fibonacci series : 13\n",
      "[0, 1, 1, 2, 3, 5, 8, 13, 21, 34, 55, 89, 144]\n"
     ]
    }
   ],
   "source": [
    "n=int(input(\"Enter a non negative number to print fibonacci series : \"))\n",
    "fibseries=[0,1]\n",
    "for i in range(2,n):\n",
    "    nextElement=fibseries[i-1]+fibseries[i-2]\n",
    "    fibseries.append(nextElement)\n",
    "    #print(fibseries)\n",
    "print(fibseries)\n"
   ]
  },
  {
   "cell_type": "code",
   "execution_count": null,
   "metadata": {},
   "outputs": [],
   "source": []
  }
 ],
 "metadata": {
  "interpreter": {
   "hash": "9288753ed97968eb8fab342c7dd45fadf660c4293ac44454cb0e024e2f1be646"
  },
  "kernelspec": {
   "display_name": "Python 3",
   "language": "python",
   "name": "python3"
  },
  "language_info": {
   "codemirror_mode": {
    "name": "ipython",
    "version": 3
   },
   "file_extension": ".py",
   "mimetype": "text/x-python",
   "name": "python",
   "nbconvert_exporter": "python",
   "pygments_lexer": "ipython3",
   "version": "3.7.6"
  }
 },
 "nbformat": 4,
 "nbformat_minor": 2
}
