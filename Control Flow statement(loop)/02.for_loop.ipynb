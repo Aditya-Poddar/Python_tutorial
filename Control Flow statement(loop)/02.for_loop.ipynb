{
 "cells": [
  {
   "cell_type": "markdown",
   "metadata": {},
   "source": [
    "# There are two types of loop in python \n",
    "         for loop     while loop\n",
    "\n",
    "##### for loop is also called definite loop because statements are executed a definite number of times.\n",
    "\n",
    "##### while loop is also called 'indefinite loop' because statements are executed until a logical condition remains true."
   ]
  },
  {
   "cell_type": "code",
   "execution_count": 1,
   "metadata": {},
   "outputs": [],
   "source": [
    "mylist = [1,2,3,4,5,6,7,8]"
   ]
  },
  {
   "cell_type": "code",
   "execution_count": 2,
   "metadata": {},
   "outputs": [
    {
     "name": "stdout",
     "output_type": "stream",
     "text": [
      "1\n",
      "2\n",
      "3\n",
      "4\n",
      "5\n",
      "6\n",
      "7\n",
      "8\n"
     ]
    }
   ],
   "source": [
    "for i in mylist:\n",
    "    print(i)"
   ]
  },
  {
   "cell_type": "code",
   "execution_count": 3,
   "metadata": {},
   "outputs": [
    {
     "name": "stdout",
     "output_type": "stream",
     "text": [
      "number is 0\n",
      "number is 1\n",
      "number is 2\n",
      "number is 3\n",
      "number is 4\n",
      "number is 5\n",
      "number is 6\n",
      "number is 7\n",
      "number is 8\n",
      "number is 9\n"
     ]
    }
   ],
   "source": [
    "for i in range(10):\n",
    "    print(\"number is {}\".format(i))"
   ]
  },
  {
   "cell_type": "code",
   "execution_count": 4,
   "metadata": {},
   "outputs": [
    {
     "name": "stdout",
     "output_type": "stream",
     "text": [
      "0\n",
      "1\n",
      "2\n",
      "3\n",
      "4\n",
      "5\n",
      "6\n",
      "7\n",
      "8\n",
      "9\n"
     ]
    }
   ],
   "source": [
    "for i in range(10):\n",
    "    print(i)"
   ]
  },
  {
   "cell_type": "code",
   "execution_count": 5,
   "metadata": {},
   "outputs": [
    {
     "name": "stdout",
     "output_type": "stream",
     "text": [
      "1\n",
      "2\n",
      "3\n",
      "4\n",
      "5\n",
      "6\n",
      "7\n",
      "8\n",
      "9\n",
      "10\n"
     ]
    }
   ],
   "source": [
    "for i in range(10):\n",
    "    i=i+1\n",
    "    print(i)"
   ]
  },
  {
   "cell_type": "code",
   "execution_count": 6,
   "metadata": {},
   "outputs": [
    {
     "name": "stdout",
     "output_type": "stream",
     "text": [
      "0\n",
      "1\n",
      "2\n",
      "3\n",
      "4\n",
      "5\n",
      "6\n",
      "7\n",
      "8\n",
      "9\n"
     ]
    }
   ],
   "source": [
    "for i in range(10):\n",
    "    print(i)\n",
    "    "
   ]
  },
  {
   "cell_type": "code",
   "execution_count": 7,
   "metadata": {},
   "outputs": [
    {
     "name": "stdout",
     "output_type": "stream",
     "text": [
      "**\n",
      "**\n",
      "**\n",
      "**\n",
      "**\n"
     ]
    }
   ],
   "source": [
    "for i in range(5):\n",
    "    i=\"*\"\n",
    "    print(i*2)"
   ]
  },
  {
   "cell_type": "code",
   "execution_count": 8,
   "metadata": {},
   "outputs": [
    {
     "name": "stdout",
     "output_type": "stream",
     "text": [
      "[1, 2, 3, 4, 5, 6, 7, 8, 9, 11]\n",
      "[1, 2, 3, 4, 5, 6, 7, 8, 9, 11]\n",
      "[1, 2, 3, 4, 5, 6, 7, 8, 9, 11]\n",
      "[1, 2, 3, 4, 5, 6, 7, 8, 9, 11]\n",
      "[1, 2, 3, 4, 5, 6, 7, 8, 9, 11]\n",
      "[1, 2, 3, 4, 5, 6, 7, 8, 9, 11]\n",
      "[1, 2, 3, 4, 5, 6, 7, 8, 9, 11]\n",
      "[1, 2, 3, 4, 5, 6, 7, 8, 9, 11]\n",
      "[1, 2, 3, 4, 5, 6, 7, 8, 9, 11]\n",
      "[1, 2, 3, 4, 5, 6, 7, 8, 9, 11]\n"
     ]
    }
   ],
   "source": [
    "list=[1,2,3,4,5,6,7,8,9,11]\n",
    "for i in list:\n",
    "    print(list)"
   ]
  },
  {
   "cell_type": "code",
   "execution_count": 9,
   "metadata": {},
   "outputs": [
    {
     "name": "stdout",
     "output_type": "stream",
     "text": [
      "[1, 2, 3, 4, 5, 6, 7, 8, 9, 11]\n",
      "[1, 2, 3, 4, 5, 6, 7, 8, 9, 11]\n",
      "[1, 2, 3, 4, 5, 6, 7, 8, 9, 11]\n",
      "[1, 2, 3, 4, 5, 6, 7, 8, 9, 11]\n",
      "[1, 2, 3, 4, 5, 6, 7, 8, 9, 11]\n",
      "[1, 2, 3, 4, 5, 6, 7, 8, 9, 11]\n",
      "[1, 2, 3, 4, 5, 6, 7, 8, 9, 11]\n",
      "[1, 2, 3, 4, 5, 6, 7, 8, 9, 11]\n",
      "[1, 2, 3, 4, 5, 6, 7, 8, 9, 11]\n",
      "[1, 2, 3, 4, 5, 6, 7, 8, 9, 11]\n",
      "[1, 2, 3, 4, 5, 6, 7, 8, 9, 11]\n",
      "[1, 2, 3, 4, 5, 6, 7, 8, 9, 11]\n",
      "[1, 2, 3, 4, 5, 6, 7, 8, 9, 11]\n",
      "[1, 2, 3, 4, 5, 6, 7, 8, 9, 11]\n",
      "[1, 2, 3, 4, 5, 6, 7, 8, 9, 11]\n"
     ]
    }
   ],
   "source": [
    "for num in range(15):\n",
    "    print(list)"
   ]
  },
  {
   "cell_type": "code",
   "execution_count": 10,
   "metadata": {},
   "outputs": [
    {
     "data": {
      "text/plain": [
       "'vbfv\\nvvvbf\\nvvfbv\\nbvf\\nvbvf\\nffvf\\nvvv\\nvbv\\nvnvnn\\nbbvnnv\\nbbvfv\\nf\\nfhvf\\nfff\\ndf\\ndf\\nd\\nfd\\nfdf\\nd\\n'"
      ]
     },
     "execution_count": 10,
     "metadata": {},
     "output_type": "execute_result"
    }
   ],
   "source": [
    "'''vbfv\n",
    "vvvbf\n",
    "vvfbv\n",
    "bvf\n",
    "vbvf\n",
    "ffvf\n",
    "vvv\n",
    "vbv\n",
    "vnvnn\n",
    "bbvnnv\n",
    "bbvfv\n",
    "f\n",
    "fhvf\n",
    "fff\n",
    "df\n",
    "df\n",
    "d\n",
    "fd\n",
    "fdf\n",
    "d\n",
    "'''"
   ]
  },
  {
   "cell_type": "code",
   "execution_count": 11,
   "metadata": {},
   "outputs": [
    {
     "data": {
      "text/plain": [
       "'     # multiline comment \\nfd\\ndd\\nfdf\\n\\ndf\\ndf\\ndf\\nd'"
      ]
     },
     "execution_count": 11,
     "metadata": {},
     "output_type": "execute_result"
    }
   ],
   "source": [
    "\"\"\"     # multiline comment \n",
    "fd\n",
    "dd\n",
    "fdf\n",
    "\n",
    "df\n",
    "df\n",
    "df\n",
    "d\"\"\""
   ]
  },
  {
   "cell_type": "code",
   "execution_count": 12,
   "metadata": {},
   "outputs": [
    {
     "name": "stdout",
     "output_type": "stream",
     "text": [
      "Execution number is  1\n",
      "Execution number is  2\n",
      "Execution number is  3\n"
     ]
    }
   ],
   "source": [
    "for i in \"123\":\n",
    "    print(\"Execution number is \",i)"
   ]
  },
  {
   "cell_type": "code",
   "execution_count": 13,
   "metadata": {},
   "outputs": [
    {
     "name": "stdout",
     "output_type": "stream",
     "text": [
      "M\n",
      "I\n",
      "M\n",
      "I\n",
      "T\n",
      " \n",
      "M\n",
      "A\n",
      "L\n",
      "O\n",
      "U\n",
      "T\n"
     ]
    }
   ],
   "source": [
    "for letter in \"MIMIT MALOUT\":\n",
    "    print(letter)"
   ]
  },
  {
   "cell_type": "code",
   "execution_count": 14,
   "metadata": {},
   "outputs": [
    {
     "name": "stdout",
     "output_type": "stream",
     "text": [
      "M\n",
      "I\n",
      "M\n",
      "I\n",
      "T\n",
      " \n",
      "M\n",
      "A\n",
      "L\n",
      "O\n",
      "U\n",
      "T\n",
      "Out from loop....\n"
     ]
    }
   ],
   "source": [
    "for letter in \"MIMIT MALOUT\":\n",
    "    print(letter)\n",
    "else:\n",
    "    print(\"Out from loop....\")"
   ]
  },
  {
   "cell_type": "markdown",
   "metadata": {},
   "source": [
    "### WAP to print the table of a number using for loop "
   ]
  },
  {
   "cell_type": "code",
   "execution_count": 15,
   "metadata": {},
   "outputs": [
    {
     "name": "stdout",
     "output_type": "stream",
     "text": [
      "Which number table you want to print : 5\n",
      "5  *  1  =  5\n",
      "5  *  2  =  10\n",
      "5  *  3  =  15\n",
      "5  *  4  =  20\n",
      "5  *  5  =  25\n",
      "5  *  6  =  30\n",
      "5  *  7  =  35\n",
      "5  *  8  =  40\n",
      "5  *  9  =  45\n",
      "5  *  10  =  50\n"
     ]
    }
   ],
   "source": [
    "num=int(input(\"Which number table you want to print : \"))\n",
    "for i in range(1,11):\n",
    "    print(num,\" * \",i,\" = \",num*i)\n",
    "    "
   ]
  },
  {
   "cell_type": "markdown",
   "metadata": {},
   "source": [
    "### WAP to display the factorial of an inputted number."
   ]
  },
  {
   "cell_type": "code",
   "execution_count": 3,
   "metadata": {},
   "outputs": [
    {
     "name": "stdout",
     "output_type": "stream",
     "text": [
      "Enter non negative number to take facotrial of : 0\n",
      "Your factorial is  1\n"
     ]
    }
   ],
   "source": [
    "x=int(input(\"Enter non negative number to take facotrial of : \"))\n",
    "fact=1\n",
    "for i in range(x):\n",
    "    fact=fact*(i+1)\n",
    "    print(i+1,\"! factorial is \",fact)\n",
    "print(\"Your factorial is \",fact)"
   ]
  },
  {
   "cell_type": "markdown",
   "metadata": {},
   "source": [
    "### WAP to dispay the fibonacci series of an inputted number."
   ]
  },
  {
   "cell_type": "code",
   "execution_count": 37,
   "metadata": {},
   "outputs": [
    {
     "name": "stdout",
     "output_type": "stream",
     "text": [
      "Enter the number to print fibonacci series : 5\n",
      "[0, 1, 1, 2, 3]\n"
     ]
    }
   ],
   "source": [
    "y=int(input(\"Enter the number to print fibonacci series : \"))\n",
    "n1=0\n",
    "n2=1\n",
    "fib=[n1,n2]\n",
    "for i in range(y-2):\n",
    "    nth=n1+n2\n",
    "    n1=n2\n",
    "    n2=nth\n",
    "    fib.append(nth)\n",
    "print(fib)"
   ]
  },
  {
   "cell_type": "code",
   "execution_count": 18,
   "metadata": {},
   "outputs": [
    {
     "name": "stdout",
     "output_type": "stream",
     "text": [
      "Enter a non negative number to print fibonacci series : 7\n",
      "[0, 1, 1, 2, 3, 5, 8]\n"
     ]
    }
   ],
   "source": [
    "n=int(input(\"Enter a non negative number to print fibonacci series : \"))\n",
    "fibseries=[0,1]\n",
    "for i in range(2,n):\n",
    "    nextElement=fibseries[i-1]+fibseries[i-2]\n",
    "    fibseries.append(nextElement)\n",
    "print(fibseries)"
   ]
  },
  {
   "cell_type": "code",
   "execution_count": null,
   "metadata": {},
   "outputs": [],
   "source": []
  }
 ],
 "metadata": {
  "kernelspec": {
   "display_name": "Python 3",
   "language": "python",
   "name": "python3"
  },
  "language_info": {
   "codemirror_mode": {
    "name": "ipython",
    "version": 3
   },
   "file_extension": ".py",
   "mimetype": "text/x-python",
   "name": "python",
   "nbconvert_exporter": "python",
   "pygments_lexer": "ipython3",
   "version": "3.7.6"
  }
 },
 "nbformat": 4,
 "nbformat_minor": 4
}
