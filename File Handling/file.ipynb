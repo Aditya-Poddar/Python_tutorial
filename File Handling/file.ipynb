{
 "cells": [
  {
   "cell_type": "markdown",
   "id": "70c34d6f",
   "metadata": {},
   "source": [
    "### Synatx : \n",
    "            variable_name = open(<file_name>,<access_mode>)\n",
    "            variable_name.operation()\n",
    "            variable_name.close()"
   ]
  },
  {
   "cell_type": "markdown",
   "id": "4a26a203",
   "metadata": {},
   "source": [
    "### \n",
    "    access mode  - r , w , a \n",
    "    operation  - read , write"
   ]
  },
  {
   "cell_type": "code",
   "execution_count": 1,
   "id": "2d482300",
   "metadata": {},
   "outputs": [],
   "source": [
    "file1 = open(\"Rahul.txt\",\"w\")\n",
    "file1.write(\"My name is Rahul Kumar.\")\n",
    "file1.close()"
   ]
  },
  {
   "cell_type": "code",
   "execution_count": 2,
   "id": "73ff6c48",
   "metadata": {},
   "outputs": [],
   "source": [
    "file2 = open(\"Aditya.txt\",\"w\")\n",
    "file2.write(\"This is second file.\")\n",
    "file2.close()\n"
   ]
  },
  {
   "cell_type": "code",
   "execution_count": 3,
   "id": "ce3e06a0",
   "metadata": {},
   "outputs": [
    {
     "name": "stdout",
     "output_type": "stream",
     "text": [
      "My name is Rahul Kumar.\n"
     ]
    }
   ],
   "source": [
    "file3 = open(\"Rahul.txt\",\"r\")\n",
    "read = file3.read()\n",
    "print(read)\n",
    "file3.close()"
   ]
  },
  {
   "cell_type": "code",
   "execution_count": 4,
   "id": "f5de71ef",
   "metadata": {},
   "outputs": [
    {
     "name": "stdout",
     "output_type": "stream",
     "text": [
      "My name is Rahul Kumar.\n"
     ]
    }
   ],
   "source": [
    "file3 = open(\"Rahul.txt\",\"r\")\n",
    "print(file3.read())\n",
    "#file3.close()"
   ]
  },
  {
   "cell_type": "code",
   "execution_count": 5,
   "id": "06f15f4a",
   "metadata": {},
   "outputs": [],
   "source": [
    "roll_no = [1,2,3,4,5]\n",
    "roll_no.append(56)"
   ]
  },
  {
   "cell_type": "code",
   "execution_count": 6,
   "id": "7719a83f",
   "metadata": {},
   "outputs": [
    {
     "name": "stdout",
     "output_type": "stream",
     "text": [
      "[1, 2, 3, 4, 5, 56]\n"
     ]
    }
   ],
   "source": [
    "print(roll_no)"
   ]
  },
  {
   "cell_type": "code",
   "execution_count": 7,
   "id": "c355c572",
   "metadata": {},
   "outputs": [],
   "source": [
    "file4 = open(\"Rahul.txt\",\"a\")\n",
    "file4.write(\"I am 20 years old.\")\n",
    "file4.close()"
   ]
  },
  {
   "cell_type": "code",
   "execution_count": null,
   "id": "fefc24c5",
   "metadata": {},
   "outputs": [],
   "source": []
  },
  {
   "cell_type": "markdown",
   "id": "1d722880",
   "metadata": {},
   "source": [
    "### Append a file into another file"
   ]
  },
  {
   "cell_type": "code",
   "execution_count": 8,
   "id": "3fe44721",
   "metadata": {},
   "outputs": [],
   "source": [
    "\n",
    "# here we have appended Aditya.txt file into Rahul.txt file.\n",
    "\n",
    "file1 = open(\"Rahul.txt\",\"a\")\n",
    "file2 = open(\"Aditya.txt\",\"r\")\n",
    "file1.write(file2.read())\n",
    "file1.close()\n",
    "file2.close()"
   ]
  },
  {
   "cell_type": "code",
   "execution_count": 9,
   "id": "76895426",
   "metadata": {},
   "outputs": [
    {
     "name": "stdout",
     "output_type": "stream",
     "text": [
      "My name is Rahul Kumar.I am 20 years old.This is second file.\n"
     ]
    }
   ],
   "source": [
    "file1 = open(\"Rahul.txt\",\"r\")\n",
    "print(file1.read())\n",
    "file1.close()"
   ]
  },
  {
   "cell_type": "code",
   "execution_count": null,
   "id": "0f76b622",
   "metadata": {},
   "outputs": [],
   "source": []
  }
 ],
 "metadata": {
  "kernelspec": {
   "display_name": "Python 3 (ipykernel)",
   "language": "python",
   "name": "python3"
  },
  "language_info": {
   "codemirror_mode": {
    "name": "ipython",
    "version": 3
   },
   "file_extension": ".py",
   "mimetype": "text/x-python",
   "name": "python",
   "nbconvert_exporter": "python",
   "pygments_lexer": "ipython3",
   "version": "3.8.10"
  }
 },
 "nbformat": 4,
 "nbformat_minor": 5
}
