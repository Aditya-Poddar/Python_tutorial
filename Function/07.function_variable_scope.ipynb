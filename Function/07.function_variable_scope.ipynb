{
 "cells": [
  {
   "cell_type": "code",
   "execution_count": 1,
   "metadata": {},
   "outputs": [],
   "source": [
    "x=10              # global variable\n",
    "def printer():\n",
    "    x=20          # local variasble\n",
    "    return x"
   ]
  },
  {
   "cell_type": "code",
   "execution_count": 2,
   "metadata": {},
   "outputs": [
    {
     "name": "stdout",
     "output_type": "stream",
     "text": [
      "10\n"
     ]
    }
   ],
   "source": [
    "print(x)"
   ]
  },
  {
   "cell_type": "code",
   "execution_count": 3,
   "metadata": {},
   "outputs": [
    {
     "name": "stdout",
     "output_type": "stream",
     "text": [
      "20\n"
     ]
    }
   ],
   "source": [
    "print(printer())"
   ]
  },
  {
   "cell_type": "markdown",
   "metadata": {},
   "source": [
    "### LEGB RULE :"
   ]
  },
  {
   "cell_type": "markdown",
   "metadata": {},
   "source": [
    "L : Local  ---> Names assigned in any way within a function (def or lambda) and not declared global in that function.\n",
    "\n",
    "E : Enclosing function locals  ---> Names in the local scope of any and all enclosing functions (def or lambda) from inner to outer.\n",
    "\n",
    "G : Global (module)  ---> Names assigned at the top level of a module file, or declared global in a def within the file.\n",
    "\n",
    "B : Built-in(python) ---> Names preassigned in the built-in names module: open, range,SynatxError..."
   ]
  },
  {
   "cell_type": "code",
   "execution_count": 5,
   "metadata": {},
   "outputs": [
    {
     "data": {
      "text/plain": [
       "<function __main__.<lambda>(num)>"
      ]
     },
     "execution_count": 5,
     "metadata": {},
     "output_type": "execute_result"
    }
   ],
   "source": [
    "lambda num: num**2      #  here num is local variable"
   ]
  },
  {
   "cell_type": "code",
   "execution_count": 11,
   "metadata": {},
   "outputs": [
    {
     "name": "stdout",
     "output_type": "stream",
     "text": [
      "Hello Aditya\n"
     ]
    }
   ],
   "source": [
    "name=\"This is a global string variable\"   # global variable\n",
    "def greet():\n",
    "    name = \"Aditya\"           # global variable for hello() and local variable fof great() function respectively.\n",
    "    def hello():\n",
    "        print(\"Hello \"+name)\n",
    "    hello()\n",
    "greet()"
   ]
  },
  {
   "cell_type": "code",
   "execution_count": 9,
   "metadata": {},
   "outputs": [
    {
     "name": "stdout",
     "output_type": "stream",
     "text": [
      "Hello Aditya\n"
     ]
    }
   ],
   "source": [
    "greet()"
   ]
  },
  {
   "cell_type": "code",
   "execution_count": 14,
   "metadata": {},
   "outputs": [
    {
     "name": "stdout",
     "output_type": "stream",
     "text": [
      "Hello This is a global string variable\n"
     ]
    }
   ],
   "source": [
    "name=\"This is a global string variable\"   # global variable\n",
    "def greet():\n",
    "    # name = \"Aditya\"           \n",
    "    def hello():\n",
    "        print(\"Hello \"+name)\n",
    "    hello()\n",
    "greet()"
   ]
  },
  {
   "cell_type": "code",
   "execution_count": 15,
   "metadata": {},
   "outputs": [
    {
     "name": "stdout",
     "output_type": "stream",
     "text": [
      "Hello I AM a Local\n"
     ]
    }
   ],
   "source": [
    "#Global\n",
    "name=\"This is a global string variable\"   # global variable\n",
    "def greet():\n",
    "    #Enclosing\n",
    "    # name = \"Aditya\"           \n",
    "    def hello():\n",
    "        #Local\n",
    "        name=\"I AM a Local\"\n",
    "        print(\"Hello \"+name)\n",
    "    hello()\n",
    "greet()"
   ]
  },
  {
   "cell_type": "code",
   "execution_count": 24,
   "metadata": {},
   "outputs": [
    {
     "name": "stdout",
     "output_type": "stream",
     "text": [
      "Hello I AM a Local\n"
     ]
    }
   ],
   "source": [
    "#Global\n",
    "name=\"This is a global string variable\"   # global variable\n",
    "def greet():\n",
    "    #Enclosing\n",
    "    name = \"Aditya\"           \n",
    "    def hello():\n",
    "        #local \n",
    "        name=\"I AM a Local\"\n",
    "        print(\"Hello \"+name)\n",
    "    hello()\n",
    "greet()"
   ]
  },
  {
   "cell_type": "code",
   "execution_count": null,
   "metadata": {},
   "outputs": [],
   "source": []
  },
  {
   "cell_type": "code",
   "execution_count": 30,
   "metadata": {},
   "outputs": [],
   "source": [
    "x=10     # global variable\n",
    "def fun(x):\n",
    "    print(\"X is {}\".format(x))\n",
    "     \n",
    "        #local reassignment\n",
    "    x=200\n",
    "    print(\"I just locally changed X to {}\".format(x))"
   ]
  },
  {
   "cell_type": "code",
   "execution_count": 31,
   "metadata": {},
   "outputs": [
    {
     "name": "stdout",
     "output_type": "stream",
     "text": [
      "X is 4\n",
      "I just locally changed X to 200\n"
     ]
    }
   ],
   "source": [
    "fun(4)"
   ]
  },
  {
   "cell_type": "code",
   "execution_count": 32,
   "metadata": {},
   "outputs": [
    {
     "name": "stdout",
     "output_type": "stream",
     "text": [
      "10\n"
     ]
    }
   ],
   "source": [
    "print(x)"
   ]
  },
  {
   "cell_type": "code",
   "execution_count": 34,
   "metadata": {},
   "outputs": [],
   "source": [
    " x= 10\n",
    "def fun():\n",
    "    global x\n",
    "    print(\"X is {}\".format(x))\n",
    "    \n",
    "    # local reasssignmnet on a global variable\n",
    "    x=\"New Value\"\n",
    "    print(\"I just locally changed X to {}\".format(x))\n",
    "     "
   ]
  },
  {
   "cell_type": "code",
   "execution_count": 35,
   "metadata": {},
   "outputs": [
    {
     "name": "stdout",
     "output_type": "stream",
     "text": [
      "10\n"
     ]
    }
   ],
   "source": [
    "print(x)"
   ]
  },
  {
   "cell_type": "code",
   "execution_count": 36,
   "metadata": {},
   "outputs": [
    {
     "name": "stdout",
     "output_type": "stream",
     "text": [
      "X is 10\n",
      "I just locally changed X to New Value\n"
     ]
    }
   ],
   "source": [
    "fun()"
   ]
  },
  {
   "cell_type": "code",
   "execution_count": 37,
   "metadata": {},
   "outputs": [
    {
     "name": "stdout",
     "output_type": "stream",
     "text": [
      "New Value\n"
     ]
    }
   ],
   "source": [
    "print(x)"
   ]
  },
  {
   "cell_type": "code",
   "execution_count": null,
   "metadata": {},
   "outputs": [],
   "source": []
  }
 ],
 "metadata": {
  "kernelspec": {
   "display_name": "Python 3",
   "language": "python",
   "name": "python3"
  },
  "language_info": {
   "codemirror_mode": {
    "name": "ipython",
    "version": 3
   },
   "file_extension": ".py",
   "mimetype": "text/x-python",
   "name": "python",
   "nbconvert_exporter": "python",
   "pygments_lexer": "ipython3",
   "version": "3.7.6"
  }
 },
 "nbformat": 4,
 "nbformat_minor": 4
}
