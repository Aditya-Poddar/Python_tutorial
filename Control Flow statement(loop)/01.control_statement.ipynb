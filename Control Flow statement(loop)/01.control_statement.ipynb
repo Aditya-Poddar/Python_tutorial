{
 "cells": [
  {
   "cell_type": "markdown",
   "metadata": {},
   "source": [
    "# Control Statement\n",
    "    if \n",
    "    elif\n",
    "    else\n",
    "\n",
    "    if \n",
    "    if -else\n",
    "    if -elif -else\n",
    "    Nested if -else statement"
   ]
  },
  {
   "cell_type": "markdown",
   "metadata": {},
   "source": [
    "# if statement syntax"
   ]
  },
  {
   "cell_type": "code",
   "execution_count": 3,
   "metadata": {},
   "outputs": [
    {
     "name": "stdout",
     "output_type": "stream",
     "text": [
      "2 is greater than 1.\n"
     ]
    }
   ],
   "source": [
    "if 2>1:                                        # condition is true so next print code is executed.\n",
    "    print(\"2 is greater than 1.\")\n"
   ]
  },
  {
   "cell_type": "code",
   "execution_count": 4,
   "metadata": {},
   "outputs": [],
   "source": [
    "if 1>54:                                       # condition is false so next code is not executed.\n",
    "    print(\"1 is greater than 54.\")"
   ]
  },
  {
   "cell_type": "code",
   "execution_count": 9,
   "metadata": {},
   "outputs": [
    {
     "name": "stdout",
     "output_type": "stream",
     "text": [
      "Enter the value of x : 10\n"
     ]
    }
   ],
   "source": [
    "x = input(\"Enter the value of x : \")"
   ]
  },
  {
   "cell_type": "code",
   "execution_count": 10,
   "metadata": {},
   "outputs": [
    {
     "name": "stdout",
     "output_type": "stream",
     "text": [
      "10\n"
     ]
    }
   ],
   "source": [
    "print(x)"
   ]
  },
  {
   "cell_type": "code",
   "execution_count": 11,
   "metadata": {},
   "outputs": [
    {
     "name": "stdout",
     "output_type": "stream",
     "text": [
      "The value of x is 10\n"
     ]
    }
   ],
   "source": [
    "print(\"The value of x is {}\".format(x))"
   ]
  },
  {
   "cell_type": "code",
   "execution_count": 24,
   "metadata": {},
   "outputs": [
    {
     "name": "stdout",
     "output_type": "stream",
     "text": [
      "Enter your age : 19\n"
     ]
    },
    {
     "data": {
      "text/plain": [
       "'19'"
      ]
     },
     "execution_count": 24,
     "metadata": {},
     "output_type": "execute_result"
    }
   ],
   "source": [
    "age = input(\"Enter your age : \")\n",
    "age "
   ]
  },
  {
   "cell_type": "code",
   "execution_count": 7,
   "metadata": {},
   "outputs": [
    {
     "name": "stdout",
     "output_type": "stream",
     "text": [
      "Another place\n"
     ]
    }
   ],
   "source": [
    "loc = \"Bank\"\n",
    "if loc==\"Nehra\":\n",
    "    print(\"Punjab National Bank \")\n",
    "else:\n",
    "    print(\"Another place\")"
   ]
  },
  {
   "cell_type": "markdown",
   "metadata": {},
   "source": [
    "# if/else condition"
   ]
  },
  {
   "cell_type": "code",
   "execution_count": 6,
   "metadata": {},
   "outputs": [
    {
     "name": "stdout",
     "output_type": "stream",
     "text": [
      "You are not eligible for vote.\n"
     ]
    }
   ],
   "source": [
    "age = 10\n",
    "if age >= 18:\n",
    "    print(\"You are eligible for vote\")\n",
    "else:\n",
    "    print(\"You are not eligible for vote.\")"
   ]
  },
  {
   "cell_type": "code",
   "execution_count": 2,
   "metadata": {},
   "outputs": [
    {
     "name": "stdout",
     "output_type": "stream",
     "text": [
      "Enter your age : 12222\n",
      "Your are adult.\n"
     ]
    }
   ],
   "source": [
    "age=int(input(\"Enter your age : \"))\n",
    "if age>= 18:\n",
    "    print(\"Your are adult.\")\n",
    "else:\n",
    "    print(\"You are not adult\")"
   ]
  },
  {
   "cell_type": "markdown",
   "metadata": {},
   "source": [
    "### Odd And Even number program."
   ]
  },
  {
   "cell_type": "code",
   "execution_count": 4,
   "metadata": {},
   "outputs": [
    {
     "name": "stdout",
     "output_type": "stream",
     "text": [
      "Enter the number : 3\n",
      "3 is an odd number.\n"
     ]
    }
   ],
   "source": [
    "num=int(input(\"Enter the number : \"))\n",
    "if num%2==0:\n",
    "    print(\"{} is an even number\".format(num))\n",
    "else:\n",
    "    print(\"{} is an odd number.\".format(num))"
   ]
  },
  {
   "cell_type": "markdown",
   "metadata": {},
   "source": [
    "# if/elif/else condition "
   ]
  },
  {
   "cell_type": "code",
   "execution_count": 7,
   "metadata": {},
   "outputs": [
    {
     "name": "stdout",
     "output_type": "stream",
     "text": [
      "You got second position.\n"
     ]
    }
   ],
   "source": [
    "rank = 2\n",
    "if rank == 1:\n",
    "    print(\"You got first position.\")\n",
    "elif rank == 2:\n",
    "    print(\"You got second position.\")\n",
    "elif rank == 3:\n",
    "    print(\"You got third position.\")\n",
    "elif rank != 1 and 2 and 3:\n",
    "    print(\"Your are normal student.\")"
   ]
  },
  {
   "cell_type": "code",
   "execution_count": 9,
   "metadata": {},
   "outputs": [
    {
     "name": "stdout",
     "output_type": "stream",
     "text": [
      "Enter your rank : 1\n",
      "You got first position.\n"
     ]
    }
   ],
   "source": [
    "rank = int(input(\"Enter your rank : \"))\n",
    "if (rank == 1):\n",
    "    print(\"You got first position.\")\n",
    "elif (rank == 2):\n",
    "    print(\"You got second position.\")\n",
    "elif (rank == 3):\n",
    "    print(\"You got third position.\")\n",
    "#elif rank != 1 and 2 and 3:\n",
    "    print(\"Your are normal student.\")\n"
   ]
  },
  {
   "cell_type": "markdown",
   "metadata": {},
   "source": [
    "### Print all keywords."
   ]
  },
  {
   "cell_type": "code",
   "execution_count": 13,
   "metadata": {},
   "outputs": [
    {
     "name": "stdout",
     "output_type": "stream",
     "text": [
      "['False', 'None', 'True', 'and', 'as', 'assert', 'async', 'await', 'break', 'class', 'continue', 'def', 'del', 'elif', 'else', 'except', 'finally', 'for', 'from', 'global', 'if', 'import', 'in', 'is', 'lambda', 'nonlocal', 'not', 'or', 'pass', 'raise', 'return', 'try', 'while', 'with', 'yield']\n"
     ]
    }
   ],
   "source": [
    "import keyword\n",
    "print(keyword.kwlist)"
   ]
  },
  {
   "cell_type": "markdown",
   "metadata": {},
   "source": [
    "### Greatest of three number"
   ]
  },
  {
   "cell_type": "code",
   "execution_count": 27,
   "metadata": {},
   "outputs": [
    {
     "name": "stdout",
     "output_type": "stream",
     "text": [
      "Enter a's value : 3\n",
      "Enter b's value : 3\n",
      "Enter c's value : 1\n",
      "3  is greatest number.\n"
     ]
    }
   ],
   "source": [
    "a=int(input(\"Enter a's value : \"))\n",
    "b=int(input(\"Enter b's value : \"))\n",
    "c=int(input(\"Enter c's value : \"))\n",
    "if a>b:\n",
    "    if a>c:\n",
    "        print(a,\" is greatest number.\")\n",
    "    else:\n",
    "        print(c,\" is greatest number.\")\n",
    "elif b>a:\n",
    "    if b>c:\n",
    "            print(b,\" is greatest number.\")\n",
    "    else:\n",
    "        print(c,\" is greatest number.\")\n",
    "else:\n",
    "    if c>a:\n",
    "        print(c,' is greatest number.')\n",
    "    elif c==a:\n",
    "        print(\"All are equal.\")\n",
    "    else:\n",
    "        print(a,' is greatest number.')\n"
   ]
  },
  {
   "cell_type": "markdown",
   "metadata": {},
   "source": [
    "### Simple calculator"
   ]
  },
  {
   "cell_type": "code",
   "execution_count": 1,
   "metadata": {},
   "outputs": [
    {
     "name": "stdout",
     "output_type": "stream",
     "text": [
      "Enter value 1: 2\n",
      "Enter value 2: 4\n",
      "Enter any one of the operator (+,-,*,/): -\n",
      "The result is  2.0\n"
     ]
    }
   ],
   "source": [
    "result = 0\n",
    "val1 = float(input(\"Enter value 1: \"))\n",
    "val2 = float(input(\"Enter value 2: \"))\n",
    "op = input(\"Enter any one of the operator (+,-,*,/): \")\n",
    "if op == \"+\":\n",
    "    result = val1 + val2\n",
    "elif op == \"-\":\n",
    "    if val1 > val2:\n",
    "        result = val1 - val2\n",
    "    else:\n",
    "        result = val2 - val1\n",
    "elif op == \"*\":\n",
    "    result = val1 * val2\n",
    "elif op == \"/\":\n",
    "    if val2 == 0:\n",
    "        print(\"Error! Division by zero is not allowed. Program terminated\")\n",
    "    else:\n",
    "        result = val1/val2\n",
    "else:\n",
    "    print(\"Wrong input,program terminated\")\n",
    "    \n",
    "print(\"The result is \",result)"
   ]
  },
  {
   "cell_type": "markdown",
   "metadata": {},
   "source": [
    "### Wap to check number is divisible by another number or not "
   ]
  },
  {
   "cell_type": "code",
   "execution_count": 12,
   "metadata": {},
   "outputs": [
    {
     "name": "stdout",
     "output_type": "stream",
     "text": [
      "Enter the number to be divided(dividend): 12\n",
      "Enter the divisor : 5\n",
      "12  is not divisible by  5\n"
     ]
    }
   ],
   "source": [
    "num1=int(input(\"Enter the number to be divided(dividend): \"))\n",
    "num2=int(input(\"Enter the divisor : \"))\n",
    "if num1 % num2 == 0 :\n",
    "    print(num1,\" is divisible by \",num2)\n",
    "else:\n",
    "    print(num1,\" is not divisible by \",num2)"
   ]
  },
  {
   "cell_type": "code",
   "execution_count": 13,
   "metadata": {},
   "outputs": [
    {
     "name": "stdout",
     "output_type": "stream",
     "text": [
      "Enter the number to be divided(dividend): 115\n",
      "Enter the divisor : 5\n",
      "115 is divisible by 5\n"
     ]
    }
   ],
   "source": [
    "num1=int(input(\"Enter the number to be divided(dividend): \"))\n",
    "num2=int(input(\"Enter the divisor : \"))\n",
    "if num1 % num2 == 0 :\n",
    "    print(\"{} is divisible by {}\".format(num1,num2))\n",
    "else:\n",
    "    print(\"{} is not divisible by {}\".format(num1,num2))"
   ]
  },
  {
   "cell_type": "markdown",
   "metadata": {},
   "source": [
    "###  WAP to check weather an inputted number is Buzz or not.\n",
    "Buzz number means if a number ends with 7 or divisible by 7"
   ]
  },
  {
   "cell_type": "code",
   "execution_count": 1,
   "metadata": {},
   "outputs": [
    {
     "name": "stdout",
     "output_type": "stream",
     "text": [
      "Enter the number to check weather the number is buzz or not : 57\n",
      "57  is a BUZZ number.\n"
     ]
    }
   ],
   "source": [
    "num=int(input(\"Enter the number to check weather the number is buzz or not : \"))\n",
    "if num % 7 == 0 or num % 10 == 7:\n",
    "    print(num,\" is a BUZZ number.\")\n",
    "else:\n",
    "    print(num,\" is not a BUZZ number.\")"
   ]
  },
  {
   "cell_type": "markdown",
   "metadata": {},
   "source": [
    "### WAP to accept percentage of a student and display the grade accordingly"
   ]
  },
  {
   "cell_type": "code",
   "execution_count": 33,
   "metadata": {},
   "outputs": [
    {
     "name": "stdout",
     "output_type": "stream",
     "text": [
      "Enter the percentage of a students : 30\n",
      "E\n"
     ]
    }
   ],
   "source": [
    "per=float(input(\"Enter the percentage of a students : \"))\n",
    "if per > 85:\n",
    "    print(\"A\")\n",
    "elif per > 70 and per <= 85:\n",
    "    print(\"B\")\n",
    "elif per > 60 and per <= 70:\n",
    "    print(\"C\")\n",
    "elif per > 50 and per <= 60:\n",
    "    print(\"D\")\n",
    "elif per >= 30 and per <=50:\n",
    "    print(\"E\")\n",
    "else:\n",
    "    print(\"None\")"
   ]
  },
  {
   "cell_type": "markdown",
   "metadata": {},
   "source": [
    "### WAP to find whether an inputtedd number is a 0 , a positive number , a negative number. "
   ]
  },
  {
   "cell_type": "code",
   "execution_count": 3,
   "metadata": {},
   "outputs": [
    {
     "name": "stdout",
     "output_type": "stream",
     "text": [
      "Enter the number : -2\n",
      "Negative Number\n"
     ]
    }
   ],
   "source": [
    "num=int(input(\"Enter the number : \"))\n",
    "if num == 0:\n",
    "    print(\"Zero\")\n",
    "elif num > 0:\n",
    "    print(\"Positive Number\")\n",
    "else:\n",
    "    print(\"Negative Number\")"
   ]
  },
  {
   "cell_type": "markdown",
   "metadata": {},
   "source": [
    "### WAP to input three numbers from the user and arrange (sort) them in ascending order.\n"
   ]
  },
  {
   "cell_type": "code",
   "execution_count": 6,
   "metadata": {},
   "outputs": [
    {
     "name": "stdout",
     "output_type": "stream",
     "text": [
      "Enter first number : 2\n",
      "Enter second number: 4\n",
      "Enter third number : 3\n",
      "[2, 3, 4]\n"
     ]
    }
   ],
   "source": [
    "n1=int(input(\"Enter first number : \"))\n",
    "n2=int(input(\"Enter second number: \"))\n",
    "n3=int(input(\"Enter third number : \"))\n",
    "numberList=[n1,n2,n3]\n",
    "numberList.sort()\n",
    "print(numberList)\n"
   ]
  },
  {
   "cell_type": "code",
   "execution_count": 7,
   "metadata": {},
   "outputs": [
    {
     "data": {
      "text/plain": [
       "[2, 3, 4]"
      ]
     },
     "execution_count": 7,
     "metadata": {},
     "output_type": "execute_result"
    }
   ],
   "source": [
    "numberList"
   ]
  },
  {
   "cell_type": "code",
   "execution_count": 3,
   "metadata": {},
   "outputs": [
    {
     "name": "stdout",
     "output_type": "stream",
     "text": [
      "10\n"
     ]
    }
   ],
   "source": [
    "m=10\n",
    "print(m)"
   ]
  },
  {
   "cell_type": "code",
   "execution_count": 4,
   "metadata": {},
   "outputs": [
    {
     "data": {
      "text/plain": [
       "int"
      ]
     },
     "execution_count": 4,
     "metadata": {},
     "output_type": "execute_result"
    }
   ],
   "source": [
    "type(m)"
   ]
  },
  {
   "cell_type": "code",
   "execution_count": 5,
   "metadata": {},
   "outputs": [
    {
     "data": {
      "text/plain": [
       "(10+0j)"
      ]
     },
     "execution_count": 5,
     "metadata": {},
     "output_type": "execute_result"
    }
   ],
   "source": [
    "complex(m)"
   ]
  },
  {
   "cell_type": "code",
   "execution_count": 6,
   "metadata": {},
   "outputs": [
    {
     "data": {
      "text/plain": [
       "int"
      ]
     },
     "execution_count": 6,
     "metadata": {},
     "output_type": "execute_result"
    }
   ],
   "source": [
    "type(m)"
   ]
  },
  {
   "cell_type": "code",
   "execution_count": null,
   "metadata": {},
   "outputs": [],
   "source": []
  }
 ],
 "metadata": {
  "kernelspec": {
   "display_name": "Python 3",
   "language": "python",
   "name": "python3"
  },
  "language_info": {
   "codemirror_mode": {
    "name": "ipython",
    "version": 3
   },
   "file_extension": ".py",
   "mimetype": "text/x-python",
   "name": "python",
   "nbconvert_exporter": "python",
   "pygments_lexer": "ipython3",
   "version": "3.7.6"
  }
 },
 "nbformat": 4,
 "nbformat_minor": 4
}
